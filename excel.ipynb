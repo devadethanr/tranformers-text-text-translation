{
 "cells": [
  {
   "cell_type": "code",
   "execution_count": 10,
   "metadata": {},
   "outputs": [],
   "source": [
    "import pandas as pd\n",
    "file_path = 'jeseri-malayalam_dict.xlsx'\n",
    "jeseri_df = pd.read_excel(file_path)"
   ]
  },
  {
   "cell_type": "code",
   "execution_count": 11,
   "metadata": {},
   "outputs": [
    {
     "name": "stdout",
     "output_type": "stream",
     "text": [
      "                          Column1  \\\n",
      "0         കുമ്മ്യം /കുമ്മായം \\n\\n   \n",
      "1                       കുയക്ക്     \n",
      "2                     കുയമ്പ്  \\n   \n",
      "3                     കൂടു/കൂട്‌    \n",
      "4                      കുടുക്ക്‌    \n",
      "5  കുടുവച്ചെമ്പ്‌/കുണ്ടച്ചെമ്പ്‌    \n",
      "6                      കുട്കായ്‌    \n",
      "7                         കുട്തി    \n",
      "\n",
      "                                             Column2  \n",
      "0                                     ചുണ്ണാമ്പ്ചൂള   \n",
      "1                                            കുഴപ്പം  \n",
      "2                                           കുഴമ്പ്   \n",
      "3                                           കൊടുക്കു  \n",
      "4                                              ബട്ടൻ  \n",
      "5                              വാവട്ടം കുറഞ്ഞ പാത്രം  \n",
      "6                           കൊടുക്കരുത്‌, കൊടുക്കണ്ട  \n",
      "7  ഓടം, തോണി എന്നിവയില്‍നിന്ന്‌ വെള്ളം \\nകളയാനുള്...  \n"
     ]
    }
   ],
   "source": [
    "# jeseri_df = jeseri_df.sort_values(by=jeseri_df.columns[0])\n",
    "print(jeseri_df)"
   ]
  },
  {
   "cell_type": "code",
   "execution_count": 14,
   "metadata": {},
   "outputs": [
    {
     "name": "stdout",
     "output_type": "stream",
     "text": [
      "കുടുവച്ചെമ്പ്‌/കുണ്ടച്ചെമ്പ്‌ \n",
      "Corresponding value: വാവട്ടം കുറഞ്ഞ പാത്രം\n"
     ]
    }
   ],
   "source": [
    "user_input = input(\"Enter a Malayalam string: \")\n",
    "print(user_input)\n",
    "# Search for the input in the first column and find the corresponding value in the second column\n",
    "result = jeseri_df.loc[jeseri_df[jeseri_df.columns[0]] == user_input, jeseri_df.columns[1]]\n",
    "\n",
    "# Check if the result is found\n",
    "if not result.empty:\n",
    "    print(f\"Corresponding value: {result.values[0]}\")\n",
    "else:\n",
    "    print(\"No matching value found.\")"
   ]
  }
 ],
 "metadata": {
  "kernelspec": {
   "display_name": "Python 3",
   "language": "python",
   "name": "python3"
  },
  "language_info": {
   "codemirror_mode": {
    "name": "ipython",
    "version": 3
   },
   "file_extension": ".py",
   "mimetype": "text/x-python",
   "name": "python",
   "nbconvert_exporter": "python",
   "pygments_lexer": "ipython3",
   "version": "3.12.3"
  }
 },
 "nbformat": 4,
 "nbformat_minor": 2
}

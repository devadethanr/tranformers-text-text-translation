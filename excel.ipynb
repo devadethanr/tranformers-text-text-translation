{
 "cells": [
  {
   "cell_type": "code",
   "execution_count": 23,
   "metadata": {},
   "outputs": [
    {
     "data": {
      "text/plain": [
       "0           കുമ്മ്യം /കുമ്മായം \\n\\n\n",
       "1                         കുയക്ക്  \n",
       "2                       കുയമ്പ്  \\n\n",
       "3                       കൂടു/കൂട്‌ \n",
       "4                        കുടുക്ക്‌ \n",
       "5    കുടുവച്ചെമ്പ്‌/കുണ്ടച്ചെമ്പ്‌ \n",
       "6                        കുട്കായ്‌ \n",
       "7                           കുട്തി \n",
       "Name: Column1, dtype: object"
      ]
     },
     "execution_count": 23,
     "metadata": {},
     "output_type": "execute_result"
    }
   ],
   "source": [
    "import pandas as pd\n",
    "file_path = 'jeseri-malayalam_dict.xlsx'\n",
    "jeseri_df = pd.read_excel(file_path)\n",
    "jeseri_df.Column1"
   ]
  },
  {
   "cell_type": "code",
   "execution_count": 31,
   "metadata": {},
   "outputs": [
    {
     "data": {
      "text/plain": [
       "0       Female\n",
       "1       Female\n",
       "2         Male\n",
       "3       Female\n",
       "4       Female\n",
       "         ...  \n",
       "4995    Female\n",
       "4996    Female\n",
       "4997    Female\n",
       "4998      Male\n",
       "4999    Female\n",
       "Name: Gender, Length: 5000, dtype: object"
      ]
     },
     "execution_count": 31,
     "metadata": {},
     "output_type": "execute_result"
    }
   ],
   "source": [
    "file_path_test = 'file_example_XLSX_5000.xlsx'\n",
    "test_df = pd.read_excel(file_path_test)\n",
    "# test_df.Age\n",
    "test_df.Gender\n",
    "# test_df.head(10)"
   ]
  },
  {
   "cell_type": "code",
   "execution_count": 29,
   "metadata": {},
   "outputs": [
    {
     "name": "stdout",
     "output_type": "stream",
     "text": [
      "'ഒണർച' exists in the dictionary.\n"
     ]
    }
   ],
   "source": [
    "data = {\n",
    "    'ഒണർച': ['ഒണച']\n",
    "}\n",
    "word_to_check = 'ഒണർച'\n",
    "def check_key(key, dictionary):\n",
    "    if key in dictionary:\n",
    "        return True\n",
    "    else:\n",
    "        return False\n",
    "\n",
    "# Check if the word exists in the dictionary\n",
    "if check_key(word_to_check, data):\n",
    "    print(f\"'{word_to_check}' exists in the dictionary.\")\n",
    "else:\n",
    "    print(f\"'{word_to_check}' does not exist in the dictionary.\")\n"
   ]
  },
  {
   "cell_type": "code",
   "execution_count": 46,
   "metadata": {},
   "outputs": [
    {
     "name": "stdout",
     "output_type": "stream",
     "text": [
      "Your sentence:  ഏട്ട്‌\n",
      "meaning:വശത്ത്‌\n",
      "'ഏട്ട്‌' exists in the dictionary.\n",
      "['വശത്ത്\\u200c']\n"
     ]
    }
   ],
   "source": [
    "\n"
   ]
  },
  {
   "cell_type": "code",
   "execution_count": 47,
   "metadata": {},
   "outputs": [
    {
     "name": "stdout",
     "output_type": "stream",
     "text": [
      "Your sentence:  ഏത്ങ്ങില്ലി ഇനി ഏതാണ്ടും\n",
      "meaning:ഒന്നുമില്ലേ\n",
      "'ഏത്ങ്ങില്ലി' exists in the dictionary.\n",
      "'ഇനി' does not exist in the dictionary.\n",
      "meaning:എന്തോ\n",
      "'ഏതാണ്ടും' exists in the dictionary.\n",
      "ഒന്നുമില്ലേ ഇനി എന്തോ\n"
     ]
    }
   ],
   "source": [
    "data={\n",
    "    \"ഏട്ടിലും ഫലകയിലും\": \"എവിടെയും ഇല്ലാത്ത\",\n",
    "    \"ഏട്ട്‌\": \"വശത്ത്‌\",\n",
    "    \"ഏട്ട്ബ\": \"അരിക്‌\",\n",
    "    \"ഏട്ട്ബായ്‌\": \"അരിക്‌\",\n",
    "    \"ഏതറ\": \"ഏതു മുറി\",\n",
    "    \"ഏതാണ്ടും\": \"എന്തോ\",\n",
    "    \"ഏതാണ്ടം\":\"എന്തോ\",\n",
    "    \"ഏതാറ്റും\": \"എന്തിനോ\",\n",
    "    \"ഏത്ങ്ങില്ലി\": \"ഒന്നുമില്ലേ\",\n",
    "    \"എത്ങ്ങില്ലിയാഞ്ഞ\":\"ഏതും ഇല്ലാന, ഒന്നുമില്ലായിരുന്നു\",\n",
    "    \"ഫുറം\": \"ഭാഗം\",\n",
    "    \"ബിലാം\":\"ഭാഗം\"\n",
    "    ,\"ഏത്‌\":\"ഏതു\"\n",
    "}\n",
    "\n",
    "translations=[]\n",
    "def check_key(key, dictionary):\n",
    "    if key in dictionary:\n",
    "        print(\"meaning:\"+dictionary[key])\n",
    "        return True\n",
    "    else:\n",
    "        return False\n",
    "    \n",
    "word_to_check = input(\"Enter the Malayalam sentence to be translated: \")\n",
    "print(\"Your sentence: \", word_to_check)\n",
    "splitted_sentence = word_to_check.split()\n",
    "\n",
    "for word in splitted_sentence:\n",
    "    if check_key(word, data):\n",
    "        translations.append(data[word])\n",
    "        print(f\"'{word}' exists in the dictionary.\")\n",
    "    else:\n",
    "        translations.append(word)\n",
    "        print(f\"'{word}' does not exist in the dictionary.\")\n",
    "sep=\" \"\n",
    "sentence=sep.join(translations)\n",
    "print(sentence)\n",
    "\n"
   ]
  },
  {
   "cell_type": "code",
   "execution_count": null,
   "metadata": {},
   "outputs": [],
   "source": []
  },
  {
   "cell_type": "code",
   "execution_count": 22,
   "metadata": {},
   "outputs": [
    {
     "name": "stdout",
     "output_type": "stream",
     "text": [
      "Empty DataFrame\n",
      "Columns: [Unnamed: 0, First Name, Last Name, Gender, Country, Age, Date, Id]\n",
      "Index: []\n"
     ]
    }
   ],
   "source": [
    "def search_gender_age(df, gender, age):\n",
    "    # Filter the DataFrame based on the gender and age\n",
    "    result = df[(df['Gender'] == gender) & (df['Age'] == age)]\n",
    "    return result\n",
    "\n",
    "\n",
    "\n",
    "gender_to_search = 'Male'\n",
    "age_to_search = 29\n",
    "search_results = search_gender_age(test_df, gender_to_search, age_to_search)\n",
    "print(search_results)"
   ]
  },
  {
   "cell_type": "code",
   "execution_count": 10,
   "metadata": {},
   "outputs": [
    {
     "name": "stdout",
     "output_type": "stream",
     "text": [
      "1\n",
      "No matching value found.\n"
     ]
    }
   ],
   "source": [
    "user_input = input(\"enter string: \")\n",
    "print(user_input)\n",
    "# Search for the input in the first column and find the corresponding value in the second column\n",
    "result = test_df.loc[test_df[test_df.columns[0]] == user_input, test_df.columns[1]]\n",
    "\n",
    "# Check if the result is found\n",
    "if not result.empty:\n",
    "    print(f\"Corresponding value: {result.values[0]}\")\n",
    "else:\n",
    "    print(\"No matching value found.\")"
   ]
  },
  {
   "cell_type": "code",
   "execution_count": 2,
   "metadata": {},
   "outputs": [
    {
     "name": "stdout",
     "output_type": "stream",
     "text": [
      "                          Column1  \\\n",
      "0         കുമ്മ്യം /കുമ്മായം \\n\\n   \n",
      "1                       കുയക്ക്     \n",
      "2                     കുയമ്പ്  \\n   \n",
      "3                     കൂടു/കൂട്‌    \n",
      "4                      കുടുക്ക്‌    \n",
      "5  കുടുവച്ചെമ്പ്‌/കുണ്ടച്ചെമ്പ്‌    \n",
      "6                      കുട്കായ്‌    \n",
      "7                         കുട്തി    \n",
      "\n",
      "                                             Column2  \n",
      "0                                     ചുണ്ണാമ്പ്ചൂള   \n",
      "1                                            കുഴപ്പം  \n",
      "2                                           കുഴമ്പ്   \n",
      "3                                           കൊടുക്കു  \n",
      "4                                              ബട്ടൻ  \n",
      "5                              വാവട്ടം കുറഞ്ഞ പാത്രം  \n",
      "6                           കൊടുക്കരുത്‌, കൊടുക്കണ്ട  \n",
      "7  ഓടം, തോണി എന്നിവയില്‍നിന്ന്‌ വെള്ളം \\nകളയാനുള്...  \n"
     ]
    }
   ],
   "source": [
    "# jeseri_df = jeseri_df.sort_values(by=jeseri_df.columns[0])\n",
    "print(jeseri_df)"
   ]
  },
  {
   "cell_type": "code",
   "execution_count": 24,
   "metadata": {},
   "outputs": [
    {
     "name": "stdout",
     "output_type": "stream",
     "text": [
      "          കുമ്മ്യം /കുമ്മായം \\n\\n\n",
      "No matching value found.\n"
     ]
    }
   ],
   "source": [
    "import pandas as pd\n",
    "file_path = 'jeseri-malayalam_dict.xlsx'\n",
    "jeseri_df = pd.read_excel(file_path)\n",
    "\n",
    "user_input = input(\"Enter a Malayalam string: \")\n",
    "print(user_input)\n",
    "# Search for the input in the first column and find the corresponding value in the second column\n",
    "result = jeseri_df.loc[jeseri_df[jeseri_df.columns[0]] == user_input, jeseri_df.columns[1]]\n",
    "\n",
    "# Check if the result is found\n",
    "if not result.empty:\n",
    "    print(f\"Corresponding value: {result.values[0]}\")\n",
    "else:\n",
    "    print(\"No matching value found.\")"
   ]
  },
  {
   "cell_type": "code",
   "execution_count": 12,
   "metadata": {},
   "outputs": [
    {
     "name": "stdout",
     "output_type": "stream",
     "text": [
      "കുയക്ക്  കുടുക്ക്‌  കുട്കായ്‌ \n",
      "['കുയക്ക്', 'കുടുക്ക്', 'കുട്കായ്']\n"
     ]
    }
   ],
   "source": [
    "# Code to split a Malayalam sentence into words and remove ZWNJ characters\n",
    "input_sentence = input(\"Enter the sentence you want to translate: \")\n",
    "print(input_sentence)\n",
    "\n",
    "# Split the sentence into words\n",
    "splitted_sentence = input_sentence.split()\n",
    "\n",
    "# Remove ZWNJ characters from each word\n",
    "cleaned_sentence = [word.replace('\\u200c', '') for word in splitted_sentence]\n",
    "print(cleaned_sentence)\n"
   ]
  },
  {
   "cell_type": "code",
   "execution_count": 44,
   "metadata": {},
   "outputs": [
    {
     "name": "stdout",
     "output_type": "stream",
     "text": [
      "0                                       ചുണ്ണാമ്പ്ചൂള \n",
      "1                                              കുഴപ്പം\n",
      "2                                             കുഴമ്പ് \n",
      "3                                             കൊടുക്കു\n",
      "4                                                ബട്ടൻ\n",
      "5                                വാവട്ടം കുറഞ്ഞ പാത്രം\n",
      "6                             കൊടുക്കരുത്‌, കൊടുക്കണ്ട\n",
      "7    ഓടം, തോണി എന്നിവയില്‍നിന്ന്‌ വെള്ളം \\nകളയാനുള്...\n",
      "Name: Column2, dtype: object\n"
     ]
    }
   ],
   "source": [
    "print(jeseri_df[jeseri_df.columns[1]])"
   ]
  },
  {
   "cell_type": "code",
   "execution_count": 25,
   "metadata": {},
   "outputs": [
    {
     "name": "stdout",
     "output_type": "stream",
     "text": [
      "Normalized DataFrame:\n",
      "                          Column1  \\\n",
      "0         കുമ്മ്യം /കുമ്മായം \\n\\n   \n",
      "1                       കുയക്ക്     \n",
      "2                     കുയമ്പ്  \\n   \n",
      "3                     കൂടു/കൂട്‌    \n",
      "4                      കുടുക്ക്‌    \n",
      "5  കുടുവച്ചെമ്പ്‌/കുണ്ടച്ചെമ്പ്‌    \n",
      "6                      കുട്കായ്‌    \n",
      "7                         കുട്തി    \n",
      "\n",
      "                                             Column2  \n",
      "0                                     ചുണ്ണാമ്പ്ചൂള   \n",
      "1                                            കുഴപ്പം  \n",
      "2                                           കുഴമ്പ്   \n",
      "3                                           കൊടുക്കു  \n",
      "4                                              ബട്ടൻ  \n",
      "5                              വാവട്ടം കുറഞ്ഞ പാത്രം  \n",
      "6                           കൊടുക്കരുത്‌, കൊടുക്കണ്ട  \n",
      "7  ഓടം, തോണി എന്നിവയില്‍നിന്ന്‌ വെള്ളം \\nകളയാനുള്...  \n",
      "Your sentence:            കുമ്മ്യം /കുമ്മായം \\n\\n\n",
      "Splitted sentence:  ['കുമ്മ്യം', '/കുമ്മായം', '\\\\n\\\\n']\n",
      "Searching for: കുമ്മ്യം (U+0D15 U+0D41 U+0D2E U+0D4D U+0D2E U+0D4D U+0D2F U+0D02)\n",
      "No translation found for: കുമ്മ്യം (U+0D15 U+0D41 U+0D2E U+0D4D U+0D2E U+0D4D U+0D2F U+0D02)\n",
      "Searching for: /കുമ്മായം (U+002F U+0D15 U+0D41 U+0D2E U+0D4D U+0D2E U+0D3E U+0D2F U+0D02)\n",
      "No translation found for: /കുമ്മായം (U+002F U+0D15 U+0D41 U+0D2E U+0D4D U+0D2E U+0D3E U+0D2F U+0D02)\n",
      "Searching for: \\n\\n (U+005C U+006E U+005C U+006E)\n",
      "No translation found for: \\n\\n (U+005C U+006E U+005C U+006E)\n",
      "Translated sentence for the given Malayalam sentence:  കുമ്മ്യം /കുമ്മായം \\n\\n\n"
     ]
    }
   ],
   "source": [
    "import pandas as pd\n",
    "import unicodedata\n",
    "\n",
    "# Load the data from the Excel file\n",
    "file_path = 'jeseri-malayalam_dict.xlsx'\n",
    "jeseri_data = pd.read_excel(file_path)\n",
    "jeseri_df = pd.DataFrame(jeseri_data)\n",
    "\n",
    "# Function to normalize Unicode strings\n",
    "def normalize_unicode(text):\n",
    "    return unicodedata.normalize('NFKC', text)\n",
    "\n",
    "# Normalize the DataFrame words\n",
    "jeseri_df[jeseri_df.columns[0]] = jeseri_df[jeseri_df.columns[0]].apply(normalize_unicode)\n",
    "\n",
    "# Debugging: Print the normalized DataFrame\n",
    "print(\"Normalized DataFrame:\")\n",
    "print(jeseri_df)\n",
    "\n",
    "# Function to print Unicode code points\n",
    "def print_unicode_points(text):\n",
    "    return ' '.join([f'U+{ord(c):04X}' for c in text])\n",
    "\n",
    "# Read the input sentence from the user\n",
    "input_sentence = input(\"Enter the Malayalam sentence to be translated: \")\n",
    "print(\"Your sentence: \", input_sentence)\n",
    "\n",
    "# Split the sentence into words\n",
    "splitted_sentence = input_sentence.split()\n",
    "print(\"Splitted sentence: \", splitted_sentence)\n",
    "\n",
    "# Remove ZWNJ characters from each word and normalize\n",
    "cleaned_sentence = [normalize_unicode(word.replace('\\u200c', '')) for word in splitted_sentence]\n",
    "\n",
    "# Initialize an empty list to store the translated words\n",
    "translated_sentence = []\n",
    "\n",
    "# Translate each word in the cleaned sentence\n",
    "for to_translate in cleaned_sentence:\n",
    "    print(f\"Searching for: {to_translate} ({print_unicode_points(to_translate)})\")  # Debugging line to print the word and its Unicode code points\n",
    "    translated_word = jeseri_df.query(f'{jeseri_df.columns[0]} == @to_translate')\n",
    "    if not translated_word.empty:\n",
    "        translated_sentence.append(translated_word.iloc[0][jeseri_df.columns[1]])\n",
    "    else:\n",
    "        print(f\"No translation found for: {to_translate} ({print_unicode_points(to_translate)})\")  # Debugging line to print when no translation is found\n",
    "        translated_sentence.append(to_translate)  # Keep the original word if no translation is found\n",
    "\n",
    "# Check if the translated sentence is not empty\n",
    "if translated_sentence:\n",
    "    print(\"Translated sentence for the given Malayalam sentence: \", ' '.join(translated_sentence))\n",
    "else:\n",
    "    print(\"No matching sentence found\")"
   ]
  },
  {
   "cell_type": "code",
   "execution_count": 26,
   "metadata": {},
   "outputs": [
    {
     "name": "stdout",
     "output_type": "stream",
     "text": [
      "          കുമ്മ്യം /കുമ്മായം \\n\\n\n",
      "Translations: ['കുമ്മ്യം', '/കുമ്മായം', '\\\\n\\\\n']\n"
     ]
    }
   ],
   "source": [
    "import pandas as pd\n",
    "\n",
    "# Load the data from the Excel file\n",
    "file_path = 'jeseri-malayalam_dict.xlsx'\n",
    "jeseri_df = pd.read_excel(file_path)\n",
    "\n",
    "# Get user input for a sentence\n",
    "user_input_sentence = input(\"Enter a Malayalam sentence: \")\n",
    "print(user_input_sentence)\n",
    "\n",
    "# Split the sentence into words\n",
    "words = user_input_sentence.split()\n",
    "\n",
    "# Initialize an empty list to store the translations\n",
    "translations = []\n",
    "\n",
    "# Loop through each word in the list\n",
    "for word in words:\n",
    "    # Search for the word in the first column and find the corresponding value in the second column\n",
    "    result = jeseri_df.loc[jeseri_df[jeseri_df.columns[0]] == word, jeseri_df.columns[1]]\n",
    "    \n",
    "    # Check if the result is found\n",
    "    if not result.empty:\n",
    "        translations.append(result.values[0])\n",
    "    else:\n",
    "        translations.append(word)  # If no translation is found, keep the original word\n",
    "\n",
    "# Print the list of translations\n",
    "print(\"Translations:\", translations)"
   ]
  }
 ],
 "metadata": {
  "kernelspec": {
   "display_name": "Python 3",
   "language": "python",
   "name": "python3"
  },
  "language_info": {
   "codemirror_mode": {
    "name": "ipython",
    "version": 3
   },
   "file_extension": ".py",
   "mimetype": "text/x-python",
   "name": "python",
   "nbconvert_exporter": "python",
   "pygments_lexer": "ipython3",
   "version": "3.11.6"
  }
 },
 "nbformat": 4,
 "nbformat_minor": 2
}

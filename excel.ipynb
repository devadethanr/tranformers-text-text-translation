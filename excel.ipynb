{
 "cells": [
  {
   "cell_type": "code",
   "execution_count": 40,
   "metadata": {},
   "outputs": [],
   "source": [
    "import pandas as pd\n",
    "file_path = 'jeseri-malayalam_dict.xlsx'\n",
    "jeseri_df = pd.read_excel(file_path)"
   ]
  },
  {
   "cell_type": "code",
   "execution_count": 41,
   "metadata": {},
   "outputs": [
    {
     "name": "stdout",
     "output_type": "stream",
     "text": [
      "                          Column1  \\\n",
      "0         കുമ്മ്യം /കുമ്മായം \\n\\n   \n",
      "1                       കുയക്ക്     \n",
      "2                     കുയമ്പ്  \\n   \n",
      "3                     കൂടു/കൂട്‌    \n",
      "4                      കുടുക്ക്‌    \n",
      "5  കുടുവച്ചെമ്പ്‌/കുണ്ടച്ചെമ്പ്‌    \n",
      "6                      കുട്കായ്‌    \n",
      "7                         കുട്തി    \n",
      "\n",
      "                                             Column2  \n",
      "0                                     ചുണ്ണാമ്പ്ചൂള   \n",
      "1                                            കുഴപ്പം  \n",
      "2                                           കുഴമ്പ്   \n",
      "3                                           കൊടുക്കു  \n",
      "4                                              ബട്ടൻ  \n",
      "5                              വാവട്ടം കുറഞ്ഞ പാത്രം  \n",
      "6                           കൊടുക്കരുത്‌, കൊടുക്കണ്ട  \n",
      "7  ഓടം, തോണി എന്നിവയില്‍നിന്ന്‌ വെള്ളം \\nകളയാനുള്...  \n"
     ]
    }
   ],
   "source": [
    "# jeseri_df = jeseri_df.sort_values(by=jeseri_df.columns[0])\n",
    "print(jeseri_df)"
   ]
  },
  {
   "cell_type": "code",
   "execution_count": 56,
   "metadata": {},
   "outputs": [
    {
     "name": "stdout",
     "output_type": "stream",
     "text": [
      "കുട്കായ്‌ \n",
      "Corresponding value: കൊടുക്കരുത്‌, കൊടുക്കണ്ട\n"
     ]
    }
   ],
   "source": [
    "import pandas as pd\n",
    "file_path = 'jeseri-malayalam_dict.xlsx'\n",
    "jeseri_df = pd.read_excel(file_path)\n",
    "\n",
    "user_input = input(\"Enter a Malayalam string: \")\n",
    "print(user_input)\n",
    "# Search for the input in the first column and find the corresponding value in the second column\n",
    "result = jeseri_df.loc[jeseri_df[jeseri_df.columns[0]] == user_input, jeseri_df.columns[1]]\n",
    "\n",
    "# Check if the result is found\n",
    "if not result.empty:\n",
    "    print(f\"Corresponding value: {result.values[0]}\")\n",
    "else:\n",
    "    print(\"No matching value found.\")"
   ]
  },
  {
   "cell_type": "code",
   "execution_count": 12,
   "metadata": {},
   "outputs": [
    {
     "name": "stdout",
     "output_type": "stream",
     "text": [
      "കുയക്ക്  കുടുക്ക്‌  കുട്കായ്‌ \n",
      "['കുയക്ക്', 'കുടുക്ക്', 'കുട്കായ്']\n"
     ]
    }
   ],
   "source": [
    "# Code to split a Malayalam sentence into words and remove ZWNJ characters\n",
    "input_sentence = input(\"Enter the sentence you want to translate: \")\n",
    "print(input_sentence)\n",
    "\n",
    "# Split the sentence into words\n",
    "splitted_sentence = input_sentence.split()\n",
    "\n",
    "# Remove ZWNJ characters from each word\n",
    "cleaned_sentence = [word.replace('\\u200c', '') for word in splitted_sentence]\n",
    "print(cleaned_sentence)\n"
   ]
  },
  {
   "cell_type": "code",
   "execution_count": 44,
   "metadata": {},
   "outputs": [
    {
     "name": "stdout",
     "output_type": "stream",
     "text": [
      "0                                       ചുണ്ണാമ്പ്ചൂള \n",
      "1                                              കുഴപ്പം\n",
      "2                                             കുഴമ്പ് \n",
      "3                                             കൊടുക്കു\n",
      "4                                                ബട്ടൻ\n",
      "5                                വാവട്ടം കുറഞ്ഞ പാത്രം\n",
      "6                             കൊടുക്കരുത്‌, കൊടുക്കണ്ട\n",
      "7    ഓടം, തോണി എന്നിവയില്‍നിന്ന്‌ വെള്ളം \\nകളയാനുള്...\n",
      "Name: Column2, dtype: object\n"
     ]
    }
   ],
   "source": [
    "print(jeseri_df[jeseri_df.columns[1]])"
   ]
  },
  {
   "cell_type": "code",
   "execution_count": null,
   "metadata": {},
   "outputs": [],
   "source": [
    "import pandas as pd\n",
    "import unicodedata\n",
    "\n",
    "# Load the data from the Excel file\n",
    "file_path = 'jeseri-malayalam_dict.xlsx'\n",
    "jeseri_data = pd.read_excel(file_path)\n",
    "jeseri_df = pd.DataFrame(jeseri_data)\n",
    "\n",
    "# Function to normalize Unicode strings\n",
    "def normalize_unicode(text):\n",
    "    return unicodedata.normalize('NFKC', text)\n",
    "\n",
    "# Normalize the DataFrame words\n",
    "jeseri_df[jeseri_df.columns[0]] = jeseri_df[jeseri_df.columns[0]].apply(normalize_unicode)\n",
    "\n",
    "# Debugging: Print the normalized DataFrame\n",
    "print(\"Normalized DataFrame:\")\n",
    "print(jeseri_df)\n",
    "\n",
    "# Function to print Unicode code points\n",
    "def print_unicode_points(text):\n",
    "    return ' '.join([f'U+{ord(c):04X}' for c in text])\n",
    "\n",
    "# Read the input sentence from the user\n",
    "input_sentence = input(\"Enter the Malayalam sentence to be translated: \")\n",
    "print(\"Your sentence: \", input_sentence)\n",
    "\n",
    "# Split the sentence into words\n",
    "splitted_sentence = input_sentence.split()\n",
    "print(\"Splitted sentence: \", splitted_sentence)\n",
    "\n",
    "# Remove ZWNJ characters from each word and normalize\n",
    "cleaned_sentence = [normalize_unicode(word.replace('\\u200c', '')) for word in splitted_sentence]\n",
    "\n",
    "# Initialize an empty list to store the translated words\n",
    "translated_sentence = []\n",
    "\n",
    "# Translate each word in the cleaned sentence\n",
    "for to_translate in cleaned_sentence:\n",
    "    print(f\"Searching for: {to_translate} ({print_unicode_points(to_translate)})\")  # Debugging line to print the word and its Unicode code points\n",
    "    translated_word = jeseri_df.query(f'{jeseri_df.columns[0]} == @to_translate')\n",
    "    if not translated_word.empty:\n",
    "        translated_sentence.append(translated_word.iloc[0][jeseri_df.columns[1]])\n",
    "    else:\n",
    "        print(f\"No translation found for: {to_translate} ({print_unicode_points(to_translate)})\")  # Debugging line to print when no translation is found\n",
    "        translated_sentence.append(to_translate)  # Keep the original word if no translation is found\n",
    "\n",
    "# Check if the translated sentence is not empty\n",
    "if translated_sentence:\n",
    "    print(\"Translated sentence for the given Malayalam sentence: \", ' '.join(translated_sentence))\n",
    "else:\n",
    "    print(\"No matching sentence found\")"
   ]
  },
  {
   "cell_type": "code",
   "execution_count": 57,
   "metadata": {},
   "outputs": [
    {
     "name": "stdout",
     "output_type": "stream",
     "text": [
      "കുട്കായ്‌ \n",
      "Translations: ['കുട്കായ്\\u200c']\n"
     ]
    }
   ],
   "source": [
    "import pandas as pd\n",
    "\n",
    "# Load the data from the Excel file\n",
    "file_path = 'jeseri-malayalam_dict.xlsx'\n",
    "jeseri_df = pd.read_excel(file_path)\n",
    "\n",
    "# Get user input for a sentence\n",
    "user_input_sentence = input(\"Enter a Malayalam sentence: \")\n",
    "print(user_input_sentence)\n",
    "\n",
    "# Split the sentence into words\n",
    "words = user_input_sentence.split()\n",
    "\n",
    "# Initialize an empty list to store the translations\n",
    "translations = []\n",
    "\n",
    "# Loop through each word in the list\n",
    "for word in words:\n",
    "    # Search for the word in the first column and find the corresponding value in the second column\n",
    "    result = jeseri_df.loc[jeseri_df[jeseri_df.columns[0]] == word, jeseri_df.columns[1]]\n",
    "    \n",
    "    # Check if the result is found\n",
    "    if not result.empty:\n",
    "        translations.append(result.values[0])\n",
    "    else:\n",
    "        translations.append(word)  # If no translation is found, keep the original word\n",
    "\n",
    "# Print the list of translations\n",
    "print(\"Translations:\", translations)"
   ]
  }
 ],
 "metadata": {
  "kernelspec": {
   "display_name": "Python 3",
   "language": "python",
   "name": "python3"
  },
  "language_info": {
   "codemirror_mode": {
    "name": "ipython",
    "version": 3
   },
   "file_extension": ".py",
   "mimetype": "text/x-python",
   "name": "python",
   "nbconvert_exporter": "python",
   "pygments_lexer": "ipython3",
   "version": "3.12.3"
  }
 },
 "nbformat": 4,
 "nbformat_minor": 2
}
